{
 "cells": [
  {
   "cell_type": "markdown",
   "metadata": {},
   "source": [
    "# Summer 2022 Data Science Intern Challenge "
   ]
  },
  {
   "cell_type": "markdown",
   "metadata": {},
   "source": [
    "## Detailed Solution to Question 1"
   ]
  },
  {
   "cell_type": "code",
   "execution_count": 2,
   "metadata": {},
   "outputs": [],
   "source": [
    "%matplotlib inline\n",
    "\n",
    "import numpy as np\n",
    "import pandas as pd\n",
    "import matplotlib.pyplot as plt"
   ]
  },
  {
   "cell_type": "code",
   "execution_count": 3,
   "metadata": {},
   "outputs": [],
   "source": [
    "# Load dataset:\n",
    "fname = r\"./2019 Winter Data Science Intern Challenge Data Set.xlsx\"\n",
    "orders = pd.read_excel(fname)"
   ]
  },
  {
   "cell_type": "markdown",
   "metadata": {},
   "source": [
    "### Short answer"
   ]
  },
  {
   "cell_type": "markdown",
   "metadata": {},
   "source": [
    "A statistical summary of the order_amount and total_items columns indicates the cause of the high AOV. There are likely a small number of very large order amounts skewing the mean (comparing max values to the third quartile values): "
   ]
  },
  {
   "cell_type": "code",
   "execution_count": 15,
   "metadata": {},
   "outputs": [
    {
     "name": "stdout",
     "output_type": "stream",
     "text": [
      "        order_amount  total_items\n",
      "count    5000.000000   5000.00000\n",
      "mean     3145.128000      8.78720\n",
      "std     41282.539349    116.32032\n",
      "min        90.000000      1.00000\n",
      "25%       163.000000      1.00000\n",
      "50%       284.000000      2.00000\n",
      "75%       390.000000      3.00000\n",
      "max    704000.000000   2000.00000\n",
      "3145.128\n"
     ]
    }
   ],
   "source": [
    "# Statistical summary of data:\n",
    "summary = orders.describe()[['order_amount', 'total_items']]\n",
    "print(summary)"
   ]
  },
  {
   "cell_type": "markdown",
   "metadata": {},
   "source": [
    "In fact, only 1.4% of orders have order amounts greater than the AOV (below), confirming that there is only a small number of very large order amounts:"
   ]
  },
  {
   "cell_type": "code",
   "execution_count": 19,
   "metadata": {},
   "outputs": [
    {
     "name": "stdout",
     "output_type": "stream",
     "text": [
      "Number of order amounts greater than AOV: 63\n",
      "Percentage of order amounts greater than AOV: 1.4%\n"
     ]
    }
   ],
   "source": [
    "# Compute percentage of order amounts greater than AOV:\n",
    "aov = summary.loc['mean', 'order_amount']\n",
    "n_gtaov = len(orders.loc[orders['order_amount'] > aov])\n",
    "print(\"Number of order amounts greater than AOV: %i\" % n_gtaov)\n",
    "print(\"Percentage of order amounts greater than AOV: %0.1f%%\" % (100*n_gt1000/len(orders)))"
   ]
  },
  {
   "cell_type": "markdown",
   "metadata": {},
   "source": [
    "In this case, the median order value (MOV) of $284 is a better representation of a typical sneaker purchase, since it is not affected by a few outliers. Also, comparison with the first and third quartiles shows a fairly tight clustering of at least the inner 50% of the distribution about the median value, again supporting the MOV as a good indicator of a typical purchase. If asked for a quick and easy metric to evaluate this data, I would recommend the median. "
   ]
  },
  {
   "cell_type": "markdown",
   "metadata": {},
   "source": [
    "### Longer answer"
   ]
  },
  {
   "cell_type": "markdown",
   "metadata": {},
   "source": [
    "Pushing the analysis just a little further suggests that there are three groups of purchase-types which make up this dataset, each with their own typical purchase values. Plotting the cost per sneaker vs. units sold for each order shows these three groups:"
   ]
  },
  {
   "cell_type": "code",
   "execution_count": 20,
   "metadata": {},
   "outputs": [
    {
     "data": {
      "text/plain": [
       "Text(0, 0.5, 'cost per sneaker')"
      ]
     },
     "execution_count": 20,
     "metadata": {},
     "output_type": "execute_result"
    },
    {
     "data": {
      "image/png": "[encoded data removed]",
      "text/plain": [
       "<Figure size 432x288 with 1 Axes>"
      ]
     },
     "metadata": {
      "needs_background": "light"
     },
     "output_type": "display_data"
    }
   ],
   "source": [
    "orders['amount_per_unit'] = orders['order_amount']/orders['total_items'] # Cost per sneaker for each order.\n",
    "\n",
    "plt.figure()\n",
    "plt.scatter(orders['total_items'], orders['amount_per_unit'])\n",
    "plt.loglog(base=10)\n",
    "plt.xlabel('units sold', fontsize=12)\n",
    "plt.ylabel('cost per sneaker', fontsize=12)"
   ]
  },
  {
   "cell_type": "markdown",
   "metadata": {},
   "source": [
    "The three groups are:\n",
    "\n",
    "1) Lower number of units sold, lower cost per sneaker. This makes up the large majority of orders and has the same MOV, \\\\$284, as the analysis above: "
   ]
  },
  {
   "cell_type": "code",
   "execution_count": 24,
   "metadata": {},
   "outputs": [
    {
     "data": {
      "text/html": [
       "<div>\n",
       "<style scoped>\n",
       "    .dataframe tbody tr th:only-of-type {\n",
       "        vertical-align: middle;\n",
       "    }\n",
       "\n",
       "    .dataframe tbody tr th {\n",
       "        vertical-align: top;\n",
       "    }\n",
       "\n",
       "    .dataframe thead th {\n",
       "        text-align: right;\n",
       "    }\n",
       "</style>\n",
       "<table border=\"1\" class=\"dataframe\">\n",
       "  <thead>\n",
       "    <tr style=\"text-align: right;\">\n",
       "      <th></th>\n",
       "      <th>order_amount</th>\n",
       "      <th>total_items</th>\n",
       "    </tr>\n",
       "  </thead>\n",
       "  <tbody>\n",
       "    <tr>\n",
       "      <th>count</th>\n",
       "      <td>4937.000000</td>\n",
       "      <td>4937.000000</td>\n",
       "    </tr>\n",
       "    <tr>\n",
       "      <th>mean</th>\n",
       "      <td>302.580514</td>\n",
       "      <td>1.994734</td>\n",
       "    </tr>\n",
       "    <tr>\n",
       "      <th>std</th>\n",
       "      <td>160.804912</td>\n",
       "      <td>0.982821</td>\n",
       "    </tr>\n",
       "    <tr>\n",
       "      <th>min</th>\n",
       "      <td>90.000000</td>\n",
       "      <td>1.000000</td>\n",
       "    </tr>\n",
       "    <tr>\n",
       "      <th>25%</th>\n",
       "      <td>163.000000</td>\n",
       "      <td>1.000000</td>\n",
       "    </tr>\n",
       "    <tr>\n",
       "      <th>50%</th>\n",
       "      <td>284.000000</td>\n",
       "      <td>2.000000</td>\n",
       "    </tr>\n",
       "    <tr>\n",
       "      <th>75%</th>\n",
       "      <td>387.000000</td>\n",
       "      <td>3.000000</td>\n",
       "    </tr>\n",
       "    <tr>\n",
       "      <th>max</th>\n",
       "      <td>1760.000000</td>\n",
       "      <td>8.000000</td>\n",
       "    </tr>\n",
       "  </tbody>\n",
       "</table>\n",
       "</div>"
      ],
      "text/plain": [
       "       order_amount  total_items\n",
       "count   4937.000000  4937.000000\n",
       "mean     302.580514     1.994734\n",
       "std      160.804912     0.982821\n",
       "min       90.000000     1.000000\n",
       "25%      163.000000     1.000000\n",
       "50%      284.000000     2.000000\n",
       "75%      387.000000     3.000000\n",
       "max     1760.000000     8.000000"
      ]
     },
     "execution_count": 24,
     "metadata": {},
     "output_type": "execute_result"
    }
   ],
   "source": [
    "lowunits_lowcost = orders.loc[(orders['total_items']<10) & (orders['amount_per_unit']<1000)]\n",
    "lowunits_lowcost.describe()[['order_amount', 'total_items']]"
   ]
  },
  {
   "cell_type": "markdown",
   "metadata": {},
   "source": [
    "2) Lower number of units sold, higher cost per sneaker. The AOV and MOV for this group are both around \\\\$50,000. This could be e.g. rare addition sneakers purchased by people with high disposable income (assuming \\\\$25,000 for a single sneaker isn't a data error!)."
   ]
  },
  {
   "cell_type": "code",
   "execution_count": 25,
   "metadata": {},
   "outputs": [
    {
     "data": {
      "text/html": [
       "<div>\n",
       "<style scoped>\n",
       "    .dataframe tbody tr th:only-of-type {\n",
       "        vertical-align: middle;\n",
       "    }\n",
       "\n",
       "    .dataframe tbody tr th {\n",
       "        vertical-align: top;\n",
       "    }\n",
       "\n",
       "    .dataframe thead th {\n",
       "        text-align: right;\n",
       "    }\n",
       "</style>\n",
       "<table border=\"1\" class=\"dataframe\">\n",
       "  <thead>\n",
       "    <tr style=\"text-align: right;\">\n",
       "      <th></th>\n",
       "      <th>order_amount</th>\n",
       "      <th>total_items</th>\n",
       "    </tr>\n",
       "  </thead>\n",
       "  <tbody>\n",
       "    <tr>\n",
       "      <th>count</th>\n",
       "      <td>46.000000</td>\n",
       "      <td>46.000000</td>\n",
       "    </tr>\n",
       "    <tr>\n",
       "      <th>mean</th>\n",
       "      <td>49213.043478</td>\n",
       "      <td>1.913043</td>\n",
       "    </tr>\n",
       "    <tr>\n",
       "      <th>std</th>\n",
       "      <td>26472.227449</td>\n",
       "      <td>1.029047</td>\n",
       "    </tr>\n",
       "    <tr>\n",
       "      <th>min</th>\n",
       "      <td>25725.000000</td>\n",
       "      <td>1.000000</td>\n",
       "    </tr>\n",
       "    <tr>\n",
       "      <th>25%</th>\n",
       "      <td>25725.000000</td>\n",
       "      <td>1.000000</td>\n",
       "    </tr>\n",
       "    <tr>\n",
       "      <th>50%</th>\n",
       "      <td>51450.000000</td>\n",
       "      <td>2.000000</td>\n",
       "    </tr>\n",
       "    <tr>\n",
       "      <th>75%</th>\n",
       "      <td>51450.000000</td>\n",
       "      <td>2.000000</td>\n",
       "    </tr>\n",
       "    <tr>\n",
       "      <th>max</th>\n",
       "      <td>154350.000000</td>\n",
       "      <td>6.000000</td>\n",
       "    </tr>\n",
       "  </tbody>\n",
       "</table>\n",
       "</div>"
      ],
      "text/plain": [
       "        order_amount  total_items\n",
       "count      46.000000    46.000000\n",
       "mean    49213.043478     1.913043\n",
       "std     26472.227449     1.029047\n",
       "min     25725.000000     1.000000\n",
       "25%     25725.000000     1.000000\n",
       "50%     51450.000000     2.000000\n",
       "75%     51450.000000     2.000000\n",
       "max    154350.000000     6.000000"
      ]
     },
     "execution_count": 25,
     "metadata": {},
     "output_type": "execute_result"
    }
   ],
   "source": [
    "lowunits_highcost = orders.loc[(orders['total_items']<10) & (orders['amount_per_unit']>1000)]\n",
    "lowunits_highcost.describe()[['order_amount', 'total_items']]"
   ]
  },
  {
   "cell_type": "markdown",
   "metadata": {},
   "source": [
    "3) Higher number of units sold, lower cost per sneaker, maybe associated with a retailer buying wholesale from the sneaker company. The AOV and MOV are both \\\\$704,000."
   ]
  },
  {
   "cell_type": "code",
   "execution_count": 26,
   "metadata": {},
   "outputs": [
    {
     "data": {
      "text/html": [
       "<div>\n",
       "<style scoped>\n",
       "    .dataframe tbody tr th:only-of-type {\n",
       "        vertical-align: middle;\n",
       "    }\n",
       "\n",
       "    .dataframe tbody tr th {\n",
       "        vertical-align: top;\n",
       "    }\n",
       "\n",
       "    .dataframe thead th {\n",
       "        text-align: right;\n",
       "    }\n",
       "</style>\n",
       "<table border=\"1\" class=\"dataframe\">\n",
       "  <thead>\n",
       "    <tr style=\"text-align: right;\">\n",
       "      <th></th>\n",
       "      <th>order_amount</th>\n",
       "      <th>total_items</th>\n",
       "    </tr>\n",
       "  </thead>\n",
       "  <tbody>\n",
       "    <tr>\n",
       "      <th>count</th>\n",
       "      <td>17.0</td>\n",
       "      <td>17.0</td>\n",
       "    </tr>\n",
       "    <tr>\n",
       "      <th>mean</th>\n",
       "      <td>704000.0</td>\n",
       "      <td>2000.0</td>\n",
       "    </tr>\n",
       "    <tr>\n",
       "      <th>std</th>\n",
       "      <td>0.0</td>\n",
       "      <td>0.0</td>\n",
       "    </tr>\n",
       "    <tr>\n",
       "      <th>min</th>\n",
       "      <td>704000.0</td>\n",
       "      <td>2000.0</td>\n",
       "    </tr>\n",
       "    <tr>\n",
       "      <th>25%</th>\n",
       "      <td>704000.0</td>\n",
       "      <td>2000.0</td>\n",
       "    </tr>\n",
       "    <tr>\n",
       "      <th>50%</th>\n",
       "      <td>704000.0</td>\n",
       "      <td>2000.0</td>\n",
       "    </tr>\n",
       "    <tr>\n",
       "      <th>75%</th>\n",
       "      <td>704000.0</td>\n",
       "      <td>2000.0</td>\n",
       "    </tr>\n",
       "    <tr>\n",
       "      <th>max</th>\n",
       "      <td>704000.0</td>\n",
       "      <td>2000.0</td>\n",
       "    </tr>\n",
       "  </tbody>\n",
       "</table>\n",
       "</div>"
      ],
      "text/plain": [
       "       order_amount  total_items\n",
       "count          17.0         17.0\n",
       "mean       704000.0       2000.0\n",
       "std             0.0          0.0\n",
       "min        704000.0       2000.0\n",
       "25%        704000.0       2000.0\n",
       "50%        704000.0       2000.0\n",
       "75%        704000.0       2000.0\n",
       "max        704000.0       2000.0"
      ]
     },
     "execution_count": 26,
     "metadata": {},
     "output_type": "execute_result"
    }
   ],
   "source": [
    "highunits_lowcost = orders.loc[(orders['total_items']>10) & (orders['amount_per_unit']<1000)]\n",
    "highunits_lowcost.describe()[['order_amount', 'total_items']]"
   ]
  },
  {
   "cell_type": "markdown",
   "metadata": {},
   "source": [
    "As a final remark, each of the groups has an AOV close to its respective MOV."
   ]
  },
  {
   "cell_type": "markdown",
   "metadata": {},
   "source": [
    "### Summary\n",
    "\n",
    "A quick analysis of this dataset shows that the MOV, \\\\$284, is a much better representation of the typical order than the AOV.\n",
    "\n",
    "A slightly more in-depth analysis shows that the dataset can be split into three groups, each with a distinct MOV:\n",
    "1) Lower number of units sold, lower cost per sneaker: MOV = \\\\$284.\n",
    "\n",
    "2) Lower number of units sold, higher cost per sneaker: MOV = \\\\$51,450.\n",
    "\n",
    "3) Higher number of units sold, lower cost per sneaker: MOV = \\\\$704,000.\n",
    "\n",
    "Further, when the data are grouped in this way, the AOV and MOV agree well for each group."
   ]
  }
 ],
 "metadata": {
  "kernelspec": {
   "display_name": "Python 3",
   "language": "python",
   "name": "python3"
  },
  "language_info": {
   "codemirror_mode": {
    "name": "ipython",
    "version": 3
   },
   "file_extension": ".py",
   "mimetype": "text/x-python",
   "name": "python",
   "nbconvert_exporter": "python",
   "pygments_lexer": "ipython3",
   "version": "3.8.5"
  }
 },
 "nbformat": 4,
 "nbformat_minor": 4
}
